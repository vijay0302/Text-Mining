{
 "cells": [
  {
   "cell_type": "code",
   "execution_count": 1,
   "id": "a3cef6c8",
   "metadata": {},
   "outputs": [],
   "source": [
    "##1) Extract reviews of any product from ecommerce website like amazon\n",
    "##2) Perform emotion mining"
   ]
  },
  {
   "cell_type": "code",
   "execution_count": 2,
   "id": "45806be4",
   "metadata": {},
   "outputs": [],
   "source": [
    "# Import Libraries\n",
    "import numpy as np\n",
    "import pandas as pd \n",
    "import string \n",
    "import spacy \n",
    "\n",
    "from matplotlib.pyplot import imread\n",
    "from matplotlib import pyplot as plt\n",
    "from wordcloud import WordCloud\n",
    "%matplotlib inline"
   ]
  },
  {
   "cell_type": "code",
   "execution_count": 3,
   "id": "531d8396",
   "metadata": {},
   "outputs": [
    {
     "data": {
      "text/html": [
       "<div>\n",
       "<style scoped>\n",
       "    .dataframe tbody tr th:only-of-type {\n",
       "        vertical-align: middle;\n",
       "    }\n",
       "\n",
       "    .dataframe tbody tr th {\n",
       "        vertical-align: top;\n",
       "    }\n",
       "\n",
       "    .dataframe thead th {\n",
       "        text-align: right;\n",
       "    }\n",
       "</style>\n",
       "<table border=\"1\" class=\"dataframe\">\n",
       "  <thead>\n",
       "    <tr style=\"text-align: right;\">\n",
       "      <th></th>\n",
       "      <th>X</th>\n",
       "    </tr>\n",
       "  </thead>\n",
       "  <tbody>\n",
       "    <tr>\n",
       "      <th>0</th>\n",
       "      <td>{\".\": \"A2IBPI20UZIR0U\", \"asin\": \"1384719342\", ...</td>\n",
       "    </tr>\n",
       "    <tr>\n",
       "      <th>1</th>\n",
       "      <td>{\" \": \"A14VAT5EAX3D9S\", \"asin\": \"1384719342\", ...</td>\n",
       "    </tr>\n",
       "    <tr>\n",
       "      <th>2</th>\n",
       "      <td>{\".\": \"A195EZSQDW3E21\", \"asin\": \"1384719342\", ...</td>\n",
       "    </tr>\n",
       "    <tr>\n",
       "      <th>3</th>\n",
       "      <td>{\".\": \"A2C00NNG1ZQQG2\", \"asin\": \"1384719342\", ...</td>\n",
       "    </tr>\n",
       "    <tr>\n",
       "      <th>4</th>\n",
       "      <td>{\".\": \"A94QU4C90B1AX\", \"asin\": \"1384719342\", \"...</td>\n",
       "    </tr>\n",
       "    <tr>\n",
       "      <th>...</th>\n",
       "      <td>...</td>\n",
       "    </tr>\n",
       "    <tr>\n",
       "      <th>10109</th>\n",
       "      <td>{\".\": \"A1TJ393OFP21I8\", \"asin\": \"B00BU9KCXK\", ...</td>\n",
       "    </tr>\n",
       "    <tr>\n",
       "      <th>10110</th>\n",
       "      <td>{\".\": \"A34O0KQV4QXWNQ\", \"asin\": \"B00BU9KCXK\", ...</td>\n",
       "    </tr>\n",
       "    <tr>\n",
       "      <th>10111</th>\n",
       "      <td>{\".\": \"A120FZ2ESIMA63\", \"asin\": \"B00BU9KCXK\", ...</td>\n",
       "    </tr>\n",
       "    <tr>\n",
       "      <th>10112</th>\n",
       "      <td>{\".\": \"A1PO2WOQ0LO73Y\", \"asin\": \"B00BU9KCXK\", ...</td>\n",
       "    </tr>\n",
       "    <tr>\n",
       "      <th>10113</th>\n",
       "      <td>{\".\": \"A3KOWHTH4J4ZIK\", \"asin\": \"B00BU9KCXK\", ...</td>\n",
       "    </tr>\n",
       "  </tbody>\n",
       "</table>\n",
       "<p>10114 rows × 1 columns</p>\n",
       "</div>"
      ],
      "text/plain": [
       "                                                       X\n",
       "0      {\".\": \"A2IBPI20UZIR0U\", \"asin\": \"1384719342\", ...\n",
       "1      {\" \": \"A14VAT5EAX3D9S\", \"asin\": \"1384719342\", ...\n",
       "2      {\".\": \"A195EZSQDW3E21\", \"asin\": \"1384719342\", ...\n",
       "3      {\".\": \"A2C00NNG1ZQQG2\", \"asin\": \"1384719342\", ...\n",
       "4      {\".\": \"A94QU4C90B1AX\", \"asin\": \"1384719342\", \"...\n",
       "...                                                  ...\n",
       "10109  {\".\": \"A1TJ393OFP21I8\", \"asin\": \"B00BU9KCXK\", ...\n",
       "10110  {\".\": \"A34O0KQV4QXWNQ\", \"asin\": \"B00BU9KCXK\", ...\n",
       "10111  {\".\": \"A120FZ2ESIMA63\", \"asin\": \"B00BU9KCXK\", ...\n",
       "10112  {\".\": \"A1PO2WOQ0LO73Y\", \"asin\": \"B00BU9KCXK\", ...\n",
       "10113  {\".\": \"A3KOWHTH4J4ZIK\", \"asin\": \"B00BU9KCXK\", ...\n",
       "\n",
       "[10114 rows x 1 columns]"
      ]
     },
     "execution_count": 3,
     "metadata": {},
     "output_type": "execute_result"
    }
   ],
   "source": [
    "reviews=pd.read_csv(\"C:/Users/Vijay Rathod/Downloads/Musical_Instruments_5.csv\",encoding ='latin-1')\n",
    "reviews"
   ]
  },
  {
   "cell_type": "code",
   "execution_count": 4,
   "id": "f647c212",
   "metadata": {},
   "outputs": [
    {
     "data": {
      "text/plain": [
       "['{\".\": \"A2IBPI20UZIR0U\", \"asin\": \"1384719342\", \".\": \"cassandra tu \\\\\"Yeah, well, that\\'s just like, u...\", \"helpful\": [0, 0], \".\": \"Not much to write about here, but it does exactly what it\\'s supposed to. filters out the pop sounds. now my recordings are much more crisp. it is one of the lowest prices pop filters on amazon so might as well buy it, they honestly work the same despite their pricing,\", \"overall\": 5.0, \"summary\": \"good\", \"..\": 1393545600, \".\": \"02 28, 2014\"}',\n",
       " '{\" \": \"A14VAT5EAX3D9S\", \"asin\": \"1384719342\", \"\": \"Jake\", \"helpful\": [13, 14], \".\": \"The product does exactly as it should and is quite affordable.I did not realized it was double screened until it arrived, so it was even better than I had expected.As an added bonus, one of the screens carries a small hint of the smell of an old grape candy I used to buy, so for reminiscent\\'s sake, I cannot stop putting the pop filter next to my nose and smelling it after recording. :DIf you needed a pop filter, this will work just as well as the expensive ones, and it may even come with a pleasing aroma like mine did!Buy this product! :]\", \"overall\": 5.0, \"summary\": \"Jake\", \"..\": 1363392000, \".\": \"03 16, 2013\"}',\n",
       " '{\".\": \"A195EZSQDW3E21\", \"asin\": \"1384719342\", \".\": \"Rick Bennette \\\\\"Rick Bennette\\\\\"\", \"helpful\": [1, 1], \".\": \"The primary job of this device is to block the breath that would otherwise produce a popping sound, while allowing your voice to pass through with no noticeable reduction of volume or high frequencies. The double cloth filter blocks the pops and lets the voice through with no coloration. The metal clamp mount attaches to the mike stand secure enough to keep it attached. The goose neck needs a little coaxing to stay where you put it.\", \"overall\": 5.0, \"summary\": \"It Does The Job Well\", \"..\": 1377648000, \"\": \"08 28, 2013\"}',\n",
       " '{\".\": \"A2C00NNG1ZQQG2\", \"asin\": \"1384719342\", \".\": \"RustyBill \\\\\"Sunday Rocker\\\\\"\", \"helpful\": [0, 0], \".\": \"Nice windscreen protects my MXL mic and prevents pops. Only thing is that the gooseneck is only marginally able to hold the screen in position and requires careful positioning of the clamp to avoid sagging.\", \"overall\": 5.0, \"summary\": \"GOOD WINDSCREEN FOR THE MONEY\", \"..\": 1392336000, \".\": \"02 14, 2014\"}',\n",
       " '{\".\": \"A94QU4C90B1AX\", \"asin\": \"1384719342\", \".\": \"SEAN MASLANKA\", \"helpful\": [0, 0], \".\": \"This pop filter is great. It looks and performs like a studio filter. If you\\'re recording vocals this will eliminate the pops that gets recorded when you sing.\", \"overall\": 5.0, \"summary\": \"No more pops when I record my vocals.\", \"..\": 1392940800, \".\": \"02 21, 2014\"}',\n",
       " '{\".\": \"A2A039TZMZHH9Y\", \"asin\": \"B00004Y2UT\", \".\": \"Bill Lewey \\\\\"blewey\\\\\"\", \"helpful\": [0, 0], \".\": \"So good that I bought another one.  Love the heavy cord and gold connectors.  Bass sounds great.  I just learned last night how to coil them up.  I guess I should read instructions more carefully.  But no harm done, still works great!\", \"overall\": 5.0, \"summary\": \"The Best Cable\", \"..\": 1356048000, \".\": \"12 21, 2012\"}',\n",
       " '{\".\": \"A1UPZM995ZAH90\", \"asin\": \"B00004Y2UT\", \".\": \"Brian\", \"helpful\": [0, 0], \".\": \"I have used monster cables for years, and with good reason. The lifetime warranty is worth the price alone. Simple fact: cables break, but getting to replace them at no cost is where it\\'s at.\", \"overall\": 5.0, \"summary\": \"Monster Standard 100 - 21\\' Instrument Cable\", \"..\": 1390089600, \".\": \"01 19, 2014\"}',\n",
       " '{\".\": \"AJNFQI3YR6XJ5\", \"asin\": \"B00004Y2UT\", \".\": \"Fender Guy \\\\\"Rick\\\\\"\", \"helpful\": [0, 0], \".\": \"I now use this cable to run from the output of my pedal chain to the input of my Fender Amp. After I bought Monster Cable to hook up my pedal board I thought I would try another one and update my guitar. I had been using a high end Planet Waves cable that I bought in the 1980\\'s... Once I found out the input jacks on the new Monster cable didn\\'t fit into the Fender Strat jack I was a little disappointed... I didn\\'t return it and as stated I use it for the output on the pedal board. Save your money... I went back to my Planet Waves Cable...I payed $30.00 back in the eighties for the Planet Waves which now comes in at around $50.00. What I\\'m getting at is you get what you pay for. I thought Waves was a lot of money back in the day...but I haven\\'t bought a guitar cable since this one...20 plus years and still working...Planet Waves wins.\", \"overall\": 3.0, \"summary\": \"Didn\\'t fit my 1996 Fender Strat...\", \"..\": 1353024000, \".\": \"11 16, 2012\"}',\n",
       " '{\".\": \"A3M1PLEYNDEYO8\", \"asin\": \"B00004Y2UT\", \".\": \"G. Thomas \\\\\"Tom\\\\\"\", \"helpful\": [0, 0], \".\": \"Perfect for my Epiphone Sheraton II.  Monster cables are well constructed.  I have several and never had any problems with any of them over the years.  Got this one because I wanted the 90 degree plug.\", \"overall\": 5.0, \"summary\": \"Great cable\", \"..\": 1215302400, \".\": \"07 6, 2008\"}',\n",
       " '{\".\": \"AMNTZU1YQN1TH\", \"asin\": \"B00004Y2UT\", \".\": \"Kurt Robair\", \"helpful\": [0, 0], \".\": \"Monster makes the best cables and a lifetime warranty doesnt hurt either. This isnt their top of the line series but it works great with my bass guitar rig and has for some time. You cant go wrong with Monster Cables.\", \"overall\": 5.0, \"summary\": \"Best Instrument Cables On The Market\", \"..\": 1389139200, \".\": \"01 8, 2014\"}']"
      ]
     },
     "execution_count": 4,
     "metadata": {},
     "output_type": "execute_result"
    }
   ],
   "source": [
    "reviews = [X.strip() for X in reviews.X] \n",
    "reviews = [X for X in reviews if X] \n",
    "reviews[0:10]"
   ]
  },
  {
   "cell_type": "code",
   "execution_count": 5,
   "id": "c340da44",
   "metadata": {},
   "outputs": [
    {
     "data": {
      "text/html": [
       "<span class=\"tex2jax_ignore\"><div class=\"entities\" style=\"line-height: 2.5; direction: ltr\">{&quot;.&quot;: &quot;A1GMWTGXW682GB&quot;, &quot;asin&quot;: &quot;B000068NSX&quot;, &quot;.&quot;: &quot;\n",
       "<mark class=\"entity\" style=\"background: #7aecec; padding: 0.45em 0.6em; margin: 0 0.25em; line-height: 1; border-radius: 0.35em;\">\n",
       "    MetalFan\n",
       "    <span style=\"font-size: 0.8em; font-weight: bold; line-height: 1; border-radius: 0.35em; vertical-align: middle; margin-left: 0.5rem\">ORG</span>\n",
       "</mark>\n",
       "&quot;, &quot;helpful&quot;: [\n",
       "<mark class=\"entity\" style=\"background: #e4e7d2; padding: 0.45em 0.6em; margin: 0 0.25em; line-height: 1; border-radius: 0.35em;\">\n",
       "    0\n",
       "    <span style=\"font-size: 0.8em; font-weight: bold; line-height: 1; border-radius: 0.35em; vertical-align: middle; margin-left: 0.5rem\">CARDINAL</span>\n",
       "</mark>\n",
       ", \n",
       "<mark class=\"entity\" style=\"background: #e4e7d2; padding: 0.45em 0.6em; margin: 0 0.25em; line-height: 1; border-radius: 0.35em;\">\n",
       "    0\n",
       "    <span style=\"font-size: 0.8em; font-weight: bold; line-height: 1; border-radius: 0.35em; vertical-align: middle; margin-left: 0.5rem\">CARDINAL</span>\n",
       "</mark>\n",
       "], &quot;.&quot;: &quot;This is a cool looking cheap cable which works well. I bent one of the connectors pretty badly but that was my fault. \n",
       "<mark class=\"entity\" style=\"background: #e4e7d2; padding: 0.45em 0.6em; margin: 0 0.25em; line-height: 1; border-radius: 0.35em;\">\n",
       "    One\n",
       "    <span style=\"font-size: 0.8em; font-weight: bold; line-height: 1; border-radius: 0.35em; vertical-align: middle; margin-left: 0.5rem\">CARDINAL</span>\n",
       "</mark>\n",
       " thing to consider with the cable is to tighten the connectors once in awhile. You'll be able to hear them rattle. It seems that the 'retro' look is screw on connectors over some black rubber, but other than that, the cable looks cool and works well.I also have the shorter red cable which goes with one of my guitars perfectly. I bought theses to use while practicing with others who use black cables. It's easier to plug into different amps without cutting someone out by accident. The green cable is good for that.&quot;, &quot;overall&quot;: \n",
       "<mark class=\"entity\" style=\"background: #e4e7d2; padding: 0.45em 0.6em; margin: 0 0.25em; line-height: 1; border-radius: 0.35em;\">\n",
       "    4.0\n",
       "    <span style=\"font-size: 0.8em; font-weight: bold; line-height: 1; border-radius: 0.35em; vertical-align: middle; margin-left: 0.5rem\">CARDINAL</span>\n",
       "</mark>\n",
       ", &quot;summary&quot;: &quot;Cheap and cool looking, good length&quot;, &quot;..&quot;: \n",
       "<mark class=\"entity\" style=\"background: #bfe1d9; padding: 0.45em 0.6em; margin: 0 0.25em; line-height: 1; border-radius: 0.35em;\">\n",
       "    1331856000\n",
       "    <span style=\"font-size: 0.8em; font-weight: bold; line-height: 1; border-radius: 0.35em; vertical-align: middle; margin-left: 0.5rem\">DATE</span>\n",
       "</mark>\n",
       ", &quot;.&quot;: &quot;\n",
       "<mark class=\"entity\" style=\"background: #bfe1d9; padding: 0.45em 0.6em; margin: 0 0.25em; line-height: 1; border-radius: 0.35em;\">\n",
       "    03 16, 2012\n",
       "    <span style=\"font-size: 0.8em; font-weight: bold; line-height: 1; border-radius: 0.35em; vertical-align: middle; margin-left: 0.5rem\">DATE</span>\n",
       "</mark>\n",
       "&quot;}</div></span>"
      ],
      "text/plain": [
       "<IPython.core.display.HTML object>"
      ]
     },
     "metadata": {},
     "output_type": "display_data"
    }
   ],
   "source": [
    "# Part Of Speech Tagging\n",
    "nlp = spacy.load('en_core_web_sm')\n",
    "\n",
    "one_block = reviews[20]\n",
    "doc_block = nlp(one_block)\n",
    "spacy.displacy.render(doc_block, style='ent', jupyter=True)"
   ]
  },
  {
   "cell_type": "code",
   "execution_count": 6,
   "id": "144e4f24",
   "metadata": {},
   "outputs": [
    {
     "name": "stdout",
     "output_type": "stream",
     "text": [
      "{ PUNCT\n",
      "\" PUNCT\n",
      ". PUNCT\n",
      "\" PUNCT\n",
      ": PUNCT\n",
      "\" PUNCT\n",
      "A1GMWTGXW682 PROPN\n",
      "GB PROPN\n",
      "\" PUNCT\n",
      ", PUNCT\n",
      "\" PUNCT\n",
      "asin PROPN\n",
      "\" PUNCT\n",
      ": PUNCT\n",
      "\" PUNCT\n",
      "B000068NSX VERB\n",
      "\" PUNCT\n",
      ", PUNCT\n",
      "\" PUNCT\n",
      ". PUNCT\n"
     ]
    }
   ],
   "source": [
    "for token in doc_block[0:20]:\n",
    "    print(token, token.pos_)"
   ]
  },
  {
   "cell_type": "code",
   "execution_count": 7,
   "id": "ac98b0e0",
   "metadata": {},
   "outputs": [
    {
     "name": "stdout",
     "output_type": "stream",
     "text": [
      "['connectors', 'fault', 'thing', 'consider', 'cable', 'tighten', 'connectors', 'hear', 'rattle', 'seems', 'retro', 'look', 'screw', 'connectors', 'rubber', 'cable', 'looks', 'works', 'have', 'cable']\n"
     ]
    }
   ],
   "source": [
    "# Filtering for nouns and verbs only\n",
    "nouns_verbs = [token.text for token in doc_block if token.pos_ in ('NOUN', 'VERB')]\n",
    "print(nouns_verbs[5:25])"
   ]
  },
  {
   "cell_type": "code",
   "execution_count": 8,
   "id": "2c50cef9",
   "metadata": {},
   "outputs": [
    {
     "data": {
      "text/html": [
       "<div>\n",
       "<style scoped>\n",
       "    .dataframe tbody tr th:only-of-type {\n",
       "        vertical-align: middle;\n",
       "    }\n",
       "\n",
       "    .dataframe tbody tr th {\n",
       "        vertical-align: top;\n",
       "    }\n",
       "\n",
       "    .dataframe thead th {\n",
       "        text-align: right;\n",
       "    }\n",
       "</style>\n",
       "<table border=\"1\" class=\"dataframe\">\n",
       "  <thead>\n",
       "    <tr style=\"text-align: right;\">\n",
       "      <th></th>\n",
       "      <th>word</th>\n",
       "      <th>count</th>\n",
       "    </tr>\n",
       "  </thead>\n",
       "  <tbody>\n",
       "    <tr>\n",
       "      <th>0</th>\n",
       "      <td>cable</td>\n",
       "      <td>5</td>\n",
       "    </tr>\n",
       "    <tr>\n",
       "      <th>1</th>\n",
       "      <td>connectors</td>\n",
       "      <td>3</td>\n",
       "    </tr>\n",
       "    <tr>\n",
       "      <th>2</th>\n",
       "      <td>looking</td>\n",
       "      <td>2</td>\n",
       "    </tr>\n",
       "    <tr>\n",
       "      <th>3</th>\n",
       "      <td>works</td>\n",
       "      <td>2</td>\n",
       "    </tr>\n",
       "    <tr>\n",
       "      <th>4</th>\n",
       "      <td>use</td>\n",
       "      <td>2</td>\n",
       "    </tr>\n",
       "    <tr>\n",
       "      <th>5</th>\n",
       "      <td>b000068nsx</td>\n",
       "      <td>1</td>\n",
       "    </tr>\n",
       "    <tr>\n",
       "      <th>6</th>\n",
       "      <td>bent</td>\n",
       "      <td>1</td>\n",
       "    </tr>\n",
       "    <tr>\n",
       "      <th>7</th>\n",
       "      <td>fault</td>\n",
       "      <td>1</td>\n",
       "    </tr>\n",
       "    <tr>\n",
       "      <th>8</th>\n",
       "      <td>thing</td>\n",
       "      <td>1</td>\n",
       "    </tr>\n",
       "    <tr>\n",
       "      <th>9</th>\n",
       "      <td>consider</td>\n",
       "      <td>1</td>\n",
       "    </tr>\n",
       "  </tbody>\n",
       "</table>\n",
       "</div>"
      ],
      "text/plain": [
       "         word  count\n",
       "0       cable      5\n",
       "1  connectors      3\n",
       "2     looking      2\n",
       "3       works      2\n",
       "4         use      2\n",
       "5  b000068nsx      1\n",
       "6        bent      1\n",
       "7       fault      1\n",
       "8       thing      1\n",
       "9    consider      1"
      ]
     },
     "execution_count": 8,
     "metadata": {},
     "output_type": "execute_result"
    }
   ],
   "source": [
    "from sklearn.feature_extraction.text import CountVectorizer\n",
    "\n",
    "#Counting tokens again\n",
    "cv = CountVectorizer()\n",
    "\n",
    "X = cv.fit_transform(nouns_verbs)\n",
    "sum_words = X.sum(axis=0)\n",
    "words_freq = [(word, sum_words[0, idx]) for word, idx in cv.vocabulary_.items()]\n",
    "words_freq =sorted(words_freq, key = lambda x: x[1], reverse=True)\n",
    "wf_df = pd.DataFrame(words_freq)\n",
    "wf_df.columns = ['word', 'count']\n",
    "\n",
    "wf_df[0:10]"
   ]
  },
  {
   "cell_type": "code",
   "execution_count": 9,
   "id": "95fd90bd",
   "metadata": {},
   "outputs": [
    {
     "data": {
      "image/png": "[encoded data removed]",
      "text/plain": [
       "<Figure size 864x576 with 1 Axes>"
      ]
     },
     "metadata": {
      "needs_background": "light"
     },
     "output_type": "display_data"
    }
   ],
   "source": [
    "# Visualizing results\n",
    "# Barchart for top 10 nouns + verbs\n",
    "wf_df[0:10].plot.bar(x='word', figsize=(12,8), title='Top verbs and nouns');"
   ]
  },
  {
   "cell_type": "code",
   "execution_count": 10,
   "id": "57b3192f",
   "metadata": {},
   "outputs": [],
   "source": [
    "## Emotion Mining"
   ]
  },
  {
   "cell_type": "code",
   "execution_count": 11,
   "id": "86101fc3",
   "metadata": {},
   "outputs": [
    {
     "data": {
      "text/plain": [
       "(2477, 2)"
      ]
     },
     "execution_count": 11,
     "metadata": {},
     "output_type": "execute_result"
    }
   ],
   "source": [
    "# Sentiment analysis\n",
    "afinn = pd.read_csv('Afinn.csv', sep=',', encoding='latin-1')\n",
    "afinn.shape"
   ]
  },
  {
   "cell_type": "code",
   "execution_count": 12,
   "id": "316b36d7",
   "metadata": {},
   "outputs": [],
   "source": [
    "from itertools import islice\n",
    "\n",
    "def take(n, iterable):\n",
    "    \"Return first n items of the iterable as a list\"\n",
    "    return list(islice(iterable, n))"
   ]
  },
  {
   "cell_type": "code",
   "execution_count": 13,
   "id": "35119877",
   "metadata": {},
   "outputs": [
    {
     "data": {
      "text/plain": [
       "[('abandon', -2),\n",
       " ('abandoned', -2),\n",
       " ('abandons', -2),\n",
       " ('abducted', -2),\n",
       " ('abduction', -2),\n",
       " ('abductions', -2),\n",
       " ('abhor', -3),\n",
       " ('abhorred', -3),\n",
       " ('abhorrent', -3),\n",
       " ('abhors', -3),\n",
       " ('abilities', 2),\n",
       " ('ability', 2),\n",
       " ('aboard', 1),\n",
       " ('absentee', -1),\n",
       " ('absentees', -1),\n",
       " ('absolve', 2),\n",
       " ('absolved', 2),\n",
       " ('absolves', 2),\n",
       " ('absolving', 2),\n",
       " ('absorbed', 1)]"
      ]
     },
     "execution_count": 13,
     "metadata": {},
     "output_type": "execute_result"
    }
   ],
   "source": [
    "affinity_scores = afinn.set_index('word')['value'].to_dict()\n",
    "take(20, affinity_scores.items())"
   ]
  },
  {
   "cell_type": "code",
   "execution_count": 14,
   "id": "fcbefd3e",
   "metadata": {},
   "outputs": [
    {
     "data": {
      "text/plain": [
       "['now my recordings are much more crisp.',\n",
       " 'it is one of the lowest prices pop filters on amazon so might as well buy it, they honestly work the same despite their pricing,\", \"overall\": 5.0, \"summary\": \"good\", \"..\": 1393545600, \".',\n",
       " '\": \"02 28, 2014\"} {\" \": \"A14VAT5EAX3D9S\", \"asin\": \"1384719342\", \"\": \"Jake\", \"helpful\": [13, 14], \".',\n",
       " '\": \"The product does exactly as it should and is quite affordable.I did not realized it was double screened until it arrived, so it was even better than I had expected.As an added bonus, one of the screens carries a small hint of the smell of an old grape candy I used to buy, so for reminiscent\\'s sake, I cannot stop putting the pop filter next to my nose and smelling it after recording.',\n",
       " ':DIf you needed a pop filter, this will work just as well as the expensive ones, and it may even come with a pleasing aroma like mine did!Buy this product!',\n",
       " ':]\", \"overall\": 5.0, \"summary\": \"Jake\", \"..\": 1363392000, \".',\n",
       " '\": \"03 16, 2013\"} {\".',\n",
       " '\": \"A195EZSQDW3E21\", \"asin\": \"1384719342\", \".',\n",
       " '\": \"Rick Bennette \\\\\"Rick Bennette\\\\\"\", \"helpful\": [1, 1], \".',\n",
       " '\": \"The primary job of this device is to block the breath that would otherwise produce a popping sound, while allowing your voice to pass through with no noticeable reduction of volume or high frequencies.']"
      ]
     },
     "execution_count": 14,
     "metadata": {},
     "output_type": "execute_result"
    }
   ],
   "source": [
    "from nltk import tokenize\n",
    "sentences = tokenize.sent_tokenize(\" \".join(reviews))\n",
    "sentences[5:15]"
   ]
  },
  {
   "cell_type": "code",
   "execution_count": 15,
   "id": "8bdbb48a",
   "metadata": {},
   "outputs": [
    {
     "data": {
      "text/html": [
       "<div>\n",
       "<style scoped>\n",
       "    .dataframe tbody tr th:only-of-type {\n",
       "        vertical-align: middle;\n",
       "    }\n",
       "\n",
       "    .dataframe tbody tr th {\n",
       "        vertical-align: top;\n",
       "    }\n",
       "\n",
       "    .dataframe thead th {\n",
       "        text-align: right;\n",
       "    }\n",
       "</style>\n",
       "<table border=\"1\" class=\"dataframe\">\n",
       "  <thead>\n",
       "    <tr style=\"text-align: right;\">\n",
       "      <th></th>\n",
       "      <th>sentence</th>\n",
       "    </tr>\n",
       "  </thead>\n",
       "  <tbody>\n",
       "    <tr>\n",
       "      <th>0</th>\n",
       "      <td>{\".</td>\n",
       "    </tr>\n",
       "    <tr>\n",
       "      <th>1</th>\n",
       "      <td>\": \"A2IBPI20UZIR0U\", \"asin\": \"1384719342\", \".</td>\n",
       "    </tr>\n",
       "    <tr>\n",
       "      <th>2</th>\n",
       "      <td>\": \"cassandra tu \\\"Yeah, well, that's just lik...</td>\n",
       "    </tr>\n",
       "    <tr>\n",
       "      <th>3</th>\n",
       "      <td>\": \"Not much to write about here, but it does ...</td>\n",
       "    </tr>\n",
       "    <tr>\n",
       "      <th>4</th>\n",
       "      <td>filters out the pop sounds.</td>\n",
       "    </tr>\n",
       "    <tr>\n",
       "      <th>...</th>\n",
       "      <td>...</td>\n",
       "    </tr>\n",
       "    <tr>\n",
       "      <th>93818</th>\n",
       "      <td>\", \"..\": 1378425600, \".</td>\n",
       "    </tr>\n",
       "    <tr>\n",
       "      <th>93819</th>\n",
       "      <td>\": \"09 6, 2013\"} {\".</td>\n",
       "    </tr>\n",
       "    <tr>\n",
       "      <th>93820</th>\n",
       "      <td>\": \"A3KOWHTH4J4ZIK\", \"asin\": \"B00BU9KCXK\", \".</td>\n",
       "    </tr>\n",
       "    <tr>\n",
       "      <th>93821</th>\n",
       "      <td>\": \"DJB\", \"helpful\": [0, 0], \".</td>\n",
       "    </tr>\n",
       "    <tr>\n",
       "      <th>93822</th>\n",
       "      <td>\": \"This guitar stand is as basic as you can g...</td>\n",
       "    </tr>\n",
       "  </tbody>\n",
       "</table>\n",
       "<p>93823 rows × 1 columns</p>\n",
       "</div>"
      ],
      "text/plain": [
       "                                                sentence\n",
       "0                                                    {\".\n",
       "1          \": \"A2IBPI20UZIR0U\", \"asin\": \"1384719342\", \".\n",
       "2      \": \"cassandra tu \\\"Yeah, well, that's just lik...\n",
       "3      \": \"Not much to write about here, but it does ...\n",
       "4                            filters out the pop sounds.\n",
       "...                                                  ...\n",
       "93818                            \", \"..\": 1378425600, \".\n",
       "93819                               \": \"09 6, 2013\"} {\".\n",
       "93820      \": \"A3KOWHTH4J4ZIK\", \"asin\": \"B00BU9KCXK\", \".\n",
       "93821                    \": \"DJB\", \"helpful\": [0, 0], \".\n",
       "93822  \": \"This guitar stand is as basic as you can g...\n",
       "\n",
       "[93823 rows x 1 columns]"
      ]
     },
     "execution_count": 15,
     "metadata": {},
     "output_type": "execute_result"
    }
   ],
   "source": [
    "sent_df = pd.DataFrame(sentences, columns=['sentence'])\n",
    "sent_df"
   ]
  },
  {
   "cell_type": "code",
   "execution_count": 16,
   "id": "b85dc49f",
   "metadata": {},
   "outputs": [],
   "source": [
    "# Custom function :score each word in a sentence in lemmatised form, \n",
    "# but calculate the score for the whole original sentence.\n",
    "nlp = spacy.load('en_core_web_sm')\n",
    "sentiment_lexicon = affinity_scores\n",
    "\n",
    "def calculate_sentiment(text: str = None) -> float:\n",
    "    sent_score = 0\n",
    "    if text:\n",
    "        sentence = nlp(text)\n",
    "        for word in sentence:\n",
    "            sent_score += sentiment_lexicon.get(word.lemma_, 0)\n",
    "    return sent_score"
   ]
  },
  {
   "cell_type": "code",
   "execution_count": 17,
   "id": "b5e2017e",
   "metadata": {},
   "outputs": [
    {
     "data": {
      "text/plain": [
       "-2"
      ]
     },
     "execution_count": 17,
     "metadata": {},
     "output_type": "execute_result"
    }
   ],
   "source": [
    "# test that it works\n",
    "calculate_sentiment(text = 'very sad')"
   ]
  },
  {
   "cell_type": "code",
   "execution_count": 18,
   "id": "ed567624",
   "metadata": {},
   "outputs": [],
   "source": [
    "sent_df['sentiment_value'] = sent_df['sentence'].apply(calculate_sentiment)"
   ]
  },
  {
   "cell_type": "code",
   "execution_count": 19,
   "id": "f595e408",
   "metadata": {},
   "outputs": [
    {
     "data": {
      "text/plain": [
       "0     1\n",
       "1     5\n",
       "2    13\n",
       "3    15\n",
       "4     5\n",
       "5     7\n",
       "6    32\n",
       "7    15\n",
       "8    74\n",
       "9    30\n",
       "Name: word_count, dtype: int64"
      ]
     },
     "execution_count": 19,
     "metadata": {},
     "output_type": "execute_result"
    }
   ],
   "source": [
    "# how many words are in the sentence?\n",
    "sent_df['word_count'] = sent_df['sentence'].str.split().apply(len)\n",
    "sent_df['word_count'].head(10)"
   ]
  },
  {
   "cell_type": "code",
   "execution_count": 20,
   "id": "446be9c0",
   "metadata": {},
   "outputs": [
    {
     "data": {
      "text/html": [
       "<div>\n",
       "<style scoped>\n",
       "    .dataframe tbody tr th:only-of-type {\n",
       "        vertical-align: middle;\n",
       "    }\n",
       "\n",
       "    .dataframe tbody tr th {\n",
       "        vertical-align: top;\n",
       "    }\n",
       "\n",
       "    .dataframe thead th {\n",
       "        text-align: right;\n",
       "    }\n",
       "</style>\n",
       "<table border=\"1\" class=\"dataframe\">\n",
       "  <thead>\n",
       "    <tr style=\"text-align: right;\">\n",
       "      <th></th>\n",
       "      <th>sentence</th>\n",
       "      <th>sentiment_value</th>\n",
       "      <th>word_count</th>\n",
       "    </tr>\n",
       "  </thead>\n",
       "  <tbody>\n",
       "    <tr>\n",
       "      <th>79690</th>\n",
       "      <td>\": \"There really is nothing not to like about ...</td>\n",
       "      <td>23</td>\n",
       "      <td>100</td>\n",
       "    </tr>\n",
       "    <tr>\n",
       "      <th>54326</th>\n",
       "      <td>have been playing finger style only - usually ...</td>\n",
       "      <td>24</td>\n",
       "      <td>216</td>\n",
       "    </tr>\n",
       "    <tr>\n",
       "      <th>527</th>\n",
       "      <td>\": \"Hosa cable quality can be all over the pla...</td>\n",
       "      <td>24</td>\n",
       "      <td>112</td>\n",
       "    </tr>\n",
       "    <tr>\n",
       "      <th>62123</th>\n",
       "      <td>its very easy to use and program, I did not ha...</td>\n",
       "      <td>24</td>\n",
       "      <td>137</td>\n",
       "    </tr>\n",
       "    <tr>\n",
       "      <th>65548</th>\n",
       "      <td>Solid, nice sound, very good quality to make a...</td>\n",
       "      <td>26</td>\n",
       "      <td>89</td>\n",
       "    </tr>\n",
       "    <tr>\n",
       "      <th>49260</th>\n",
       "      <td>Nice clean boost and a good overdrive sound wh...</td>\n",
       "      <td>26</td>\n",
       "      <td>172</td>\n",
       "    </tr>\n",
       "    <tr>\n",
       "      <th>12868</th>\n",
       "      <td>\": \"Great great great great great great great ...</td>\n",
       "      <td>27</td>\n",
       "      <td>10</td>\n",
       "    </tr>\n",
       "    <tr>\n",
       "      <th>47535</th>\n",
       "      <td>\": \"what a nice clear sound it has,,and smooth...</td>\n",
       "      <td>27</td>\n",
       "      <td>140</td>\n",
       "    </tr>\n",
       "    <tr>\n",
       "      <th>70043</th>\n",
       "      <td>\": \"These days on my pedal board I have severa...</td>\n",
       "      <td>30</td>\n",
       "      <td>244</td>\n",
       "    </tr>\n",
       "    <tr>\n",
       "      <th>52996</th>\n",
       "      <td>\": \"nice good like fine great fantastic like l...</td>\n",
       "      <td>40</td>\n",
       "      <td>30</td>\n",
       "    </tr>\n",
       "  </tbody>\n",
       "</table>\n",
       "</div>"
      ],
      "text/plain": [
       "                                                sentence  sentiment_value  \\\n",
       "79690  \": \"There really is nothing not to like about ...               23   \n",
       "54326  have been playing finger style only - usually ...               24   \n",
       "527    \": \"Hosa cable quality can be all over the pla...               24   \n",
       "62123  its very easy to use and program, I did not ha...               24   \n",
       "65548  Solid, nice sound, very good quality to make a...               26   \n",
       "49260  Nice clean boost and a good overdrive sound wh...               26   \n",
       "12868  \": \"Great great great great great great great ...               27   \n",
       "47535  \": \"what a nice clear sound it has,,and smooth...               27   \n",
       "70043  \": \"These days on my pedal board I have severa...               30   \n",
       "52996  \": \"nice good like fine great fantastic like l...               40   \n",
       "\n",
       "       word_count  \n",
       "79690         100  \n",
       "54326         216  \n",
       "527           112  \n",
       "62123         137  \n",
       "65548          89  \n",
       "49260         172  \n",
       "12868          10  \n",
       "47535         140  \n",
       "70043         244  \n",
       "52996          30  "
      ]
     },
     "execution_count": 20,
     "metadata": {},
     "output_type": "execute_result"
    }
   ],
   "source": [
    "sent_df.sort_values(by='sentiment_value').tail(10)"
   ]
  },
  {
   "cell_type": "code",
   "execution_count": 21,
   "id": "bfc74159",
   "metadata": {},
   "outputs": [
    {
     "data": {
      "text/plain": [
       "count    93823.000000\n",
       "mean         1.083146\n",
       "std          2.032627\n",
       "min        -13.000000\n",
       "25%          0.000000\n",
       "50%          0.000000\n",
       "75%          2.000000\n",
       "max         40.000000\n",
       "Name: sentiment_value, dtype: float64"
      ]
     },
     "execution_count": 21,
     "metadata": {},
     "output_type": "execute_result"
    }
   ],
   "source": [
    "# Sentiment score of the whole review\n",
    "sent_df['sentiment_value'].describe()"
   ]
  },
  {
   "cell_type": "code",
   "execution_count": 22,
   "id": "fbfb377a",
   "metadata": {},
   "outputs": [
    {
     "data": {
      "text/html": [
       "<div>\n",
       "<style scoped>\n",
       "    .dataframe tbody tr th:only-of-type {\n",
       "        vertical-align: middle;\n",
       "    }\n",
       "\n",
       "    .dataframe tbody tr th {\n",
       "        vertical-align: top;\n",
       "    }\n",
       "\n",
       "    .dataframe thead th {\n",
       "        text-align: right;\n",
       "    }\n",
       "</style>\n",
       "<table border=\"1\" class=\"dataframe\">\n",
       "  <thead>\n",
       "    <tr style=\"text-align: right;\">\n",
       "      <th></th>\n",
       "      <th>sentence</th>\n",
       "      <th>sentiment_value</th>\n",
       "      <th>word_count</th>\n",
       "    </tr>\n",
       "  </thead>\n",
       "  <tbody>\n",
       "    <tr>\n",
       "      <th>2</th>\n",
       "      <td>\": \"cassandra tu \\\"Yeah, well, that's just lik...</td>\n",
       "      <td>4</td>\n",
       "      <td>13</td>\n",
       "    </tr>\n",
       "    <tr>\n",
       "      <th>6</th>\n",
       "      <td>it is one of the lowest prices pop filters on ...</td>\n",
       "      <td>3</td>\n",
       "      <td>32</td>\n",
       "    </tr>\n",
       "    <tr>\n",
       "      <th>7</th>\n",
       "      <td>\": \"02 28, 2014\"} {\" \": \"A14VAT5EAX3D9S\", \"asi...</td>\n",
       "      <td>2</td>\n",
       "      <td>15</td>\n",
       "    </tr>\n",
       "    <tr>\n",
       "      <th>9</th>\n",
       "      <td>:DIf you needed a pop filter, this will work j...</td>\n",
       "      <td>2</td>\n",
       "      <td>30</td>\n",
       "    </tr>\n",
       "    <tr>\n",
       "      <th>13</th>\n",
       "      <td>\": \"Rick Bennette \\\"Rick Bennette\\\"\", \"helpful...</td>\n",
       "      <td>2</td>\n",
       "      <td>9</td>\n",
       "    </tr>\n",
       "  </tbody>\n",
       "</table>\n",
       "</div>"
      ],
      "text/plain": [
       "                                             sentence  sentiment_value  \\\n",
       "2   \": \"cassandra tu \\\"Yeah, well, that's just lik...                4   \n",
       "6   it is one of the lowest prices pop filters on ...                3   \n",
       "7   \": \"02 28, 2014\"} {\" \": \"A14VAT5EAX3D9S\", \"asi...                2   \n",
       "9   :DIf you needed a pop filter, this will work j...                2   \n",
       "13  \": \"Rick Bennette \\\"Rick Bennette\\\"\", \"helpful...                2   \n",
       "\n",
       "    word_count  \n",
       "2           13  \n",
       "6           32  \n",
       "7           15  \n",
       "9           30  \n",
       "13           9  "
      ]
     },
     "execution_count": 22,
     "metadata": {},
     "output_type": "execute_result"
    }
   ],
   "source": [
    "sent_df[sent_df['sentiment_value']>=2].head()"
   ]
  },
  {
   "cell_type": "code",
   "execution_count": 23,
   "id": "25e23b9c",
   "metadata": {},
   "outputs": [],
   "source": [
    "sent_df['index']=range(0,len(sent_df))"
   ]
  },
  {
   "cell_type": "code",
   "execution_count": 24,
   "id": "77e3a931",
   "metadata": {},
   "outputs": [
    {
     "name": "stderr",
     "output_type": "stream",
     "text": [
      "C:\\Users\\Vijay Rathod\\anaconda3\\lib\\site-packages\\seaborn\\distributions.py:2619: FutureWarning: `distplot` is a deprecated function and will be removed in a future version. Please adapt your code to use either `displot` (a figure-level function with similar flexibility) or `histplot` (an axes-level function for histograms).\n",
      "  warnings.warn(msg, FutureWarning)\n"
     ]
    },
    {
     "data": {
      "image/png": "[encoded data removed]",
      "text/plain": [
       "<Figure size 1080x720 with 1 Axes>"
      ]
     },
     "metadata": {
      "needs_background": "light"
     },
     "output_type": "display_data"
    }
   ],
   "source": [
    "import seaborn as sns\n",
    "import matplotlib.pyplot as plt\n",
    "plt.figure(figsize=(15, 10))\n",
    "sns.distplot(sent_df['sentiment_value']);"
   ]
  },
  {
   "cell_type": "code",
   "execution_count": 25,
   "id": "96dd2262",
   "metadata": {},
   "outputs": [
    {
     "data": {
      "image/png": "[encoded data removed]",
      "text/plain": [
       "<Figure size 1080x720 with 1 Axes>"
      ]
     },
     "metadata": {
      "needs_background": "light"
     },
     "output_type": "display_data"
    }
   ],
   "source": [
    "plt.figure(figsize=(15, 10))\n",
    "sns.lineplot(y='sentiment_value',x='index',data=sent_df);"
   ]
  },
  {
   "cell_type": "code",
   "execution_count": 26,
   "id": "77a18cba",
   "metadata": {},
   "outputs": [
    {
     "data": {
      "image/png": "[encoded data removed]",
      "text/plain": [
       "<Figure size 576x576 with 1 Axes>"
      ]
     },
     "metadata": {
      "needs_background": "light"
     },
     "output_type": "display_data"
    }
   ],
   "source": [
    "sent_df.plot.scatter(x='word_count', y='sentiment_value', figsize=(8,8), title='Sentence sentiment value to sentence word count');"
   ]
  },
  {
   "cell_type": "code",
   "execution_count": null,
   "id": "b4b90e89",
   "metadata": {},
   "outputs": [],
   "source": []
  }
 ],
 "metadata": {
  "_draft": {
   "nbviewer_url": "https://gist.github.com/31a5938d2ed123a0d303a1e449d686dd"
  },
  "gist": {
   "data": {
    "description": "Text Mining Assignment Q2.ipynb",
    "public": true
   },
   "id": "31a5938d2ed123a0d303a1e449d686dd"
  },
  "kernelspec": {
   "display_name": "Python 3 (ipykernel)",
   "language": "python",
   "name": "python3"
  },
  "language_info": {
   "codemirror_mode": {
    "name": "ipython",
    "version": 3
   },
   "file_extension": ".py",
   "mimetype": "text/x-python",
   "name": "python",
   "nbconvert_exporter": "python",
   "pygments_lexer": "ipython3",
   "version": "3.9.7"
  }
 },
 "nbformat": 4,
 "nbformat_minor": 5
}
